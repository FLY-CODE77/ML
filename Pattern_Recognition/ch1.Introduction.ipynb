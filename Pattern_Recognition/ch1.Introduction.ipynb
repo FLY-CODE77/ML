{
 "cells": [
  {
   "cell_type": "markdown",
   "id": "monthly-market",
   "metadata": {},
   "source": [
    "# What is machine learning"
   ]
  },
  {
   "cell_type": "markdown",
   "id": "dirty-pathology",
   "metadata": {},
   "source": [
    "### supervised learning problems. \n",
    "- Applications in which the training data comprises \n",
    "- examples of the input vectors\n",
    "- along with their corresponding target vector\n",
    "\n",
    "---\n",
    "###  classification\n",
    "\n",
    "- Cases such as the digit recognition example, \n",
    "- in which the aim is to assign each input vector to \n",
    "- one of a finite number of discrete categories\n",
    "\n",
    "--- \n",
    "### regresion\n",
    "- If the desired output consists of one or more continuous variables, \n",
    "- then the task is called regression\n",
    "\n",
    "---\n",
    "### unsupervised learning problem\n",
    "- discover groups of similar examples within the data(clustering)\n",
    "- determine the distribution of data witin the input spcae(density estimation)\n",
    "- project the data from a high-dimensional space down to two or three dimensions for purpose of visualization\n",
    "---\n",
    "### reinforcement learning\n",
    "- concerned with the problem of finding suitable actions to take in \n",
    "- a given situation in order to maximize a reward\n"
   ]
  },
  {
   "cell_type": "markdown",
   "id": "becoming-institution",
   "metadata": {},
   "source": [
    "# Probability Theory"
   ]
  },
  {
   "cell_type": "code",
   "execution_count": null,
   "id": "attended-lafayette",
   "metadata": {},
   "outputs": [],
   "source": []
  }
 ],
 "metadata": {
  "kernelspec": {
   "display_name": "Python 3",
   "language": "python",
   "name": "python3"
  },
  "language_info": {
   "codemirror_mode": {
    "name": "ipython",
    "version": 3
   },
   "file_extension": ".py",
   "mimetype": "text/x-python",
   "name": "python",
   "nbconvert_exporter": "python",
   "pygments_lexer": "ipython3",
   "version": "3.7.7"
  }
 },
 "nbformat": 4,
 "nbformat_minor": 5
}
