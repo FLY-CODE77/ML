{
 "cells": [
  {
   "cell_type": "markdown",
   "id": "interracial-pointer",
   "metadata": {},
   "source": [
    "# What is machine learning"
   ]
  },
  {
   "cell_type": "markdown",
   "id": "revised-amount",
   "metadata": {},
   "source": [
    "### supervised learning problems. \n",
    "- Applications in which the training data comprises \n",
    "- examples of the input vectors\n",
    "- along with their corresponding target vector\n",
    "\n",
    "---\n",
    "###  classification\n",
    "\n",
    "- Cases such as the digit recognition example, \n",
    "- in which the aim is to assign each input vector to \n",
    "- one of a finite number of discrete categories\n",
    "\n",
    "--- \n",
    "### regresion\n",
    "- If the desired output consists of one or more continuous variables, \n",
    "- then the task is called regression\n",
    "\n",
    "---\n",
    "### unsupervised learning problem\n",
    "- discover groups of similar examples within the data(clustering)\n",
    "- determine the distribution of data witin the input spcae(density estimation)\n",
    "- project the data from a high-dimensional space down to two or three dimensions for purpose of visualization\n",
    "---\n",
    "### reinforcement learning\n",
    "- concerned with the problem of finding suitable actions to take in \n",
    "- a given situation in order to maximize a reward\n"
   ]
  },
  {
   "cell_type": "markdown",
   "id": "essential-secretariat",
   "metadata": {},
   "source": [
    "# Probability Theory"
   ]
  },
  {
   "cell_type": "markdown",
   "id": "confidential-community",
   "metadata": {},
   "source": [
    "### Key concept in the field of pattern recognition is that of uncertainty\n",
    "- Arise through noise on measurements \n",
    "- Arise through finite size of data sets "
   ]
  },
  {
   "cell_type": "markdown",
   "id": "accredited-contamination",
   "metadata": {},
   "source": [
    "### ThE Rules of Probability\n",
    "- sum rule : $p(X) = \\sum_y {p(X,Y)}$\n",
    "- prodict rule : $p(X,Y) = p(Y|X)p(X)$"
   ]
  },
  {
   "cell_type": "markdown",
   "id": "alike-making",
   "metadata": {},
   "source": [
    "- symmetry property \n",
    "- p(X,Y) = p(Y,X)\n",
    "---\n",
    "### Bayes's theorem\n",
    "- which central role in pattern recognition and machine learning \n",
    "- p(X,Y) = p(Y|X)p(X) = p(Y,X) = p(X|Y)p(Y)\n",
    "- p(Y|X) = $\\frac {p(X|Y)p(Y)}{p(X)}$\n"
   ]
  },
  {
   "cell_type": "markdown",
   "id": "logical-vulnerability",
   "metadata": {},
   "source": [
    "- p(Y|X)p(X) = p(X|Y)p(Y)\n",
    "- p(X,Y) = p(X|Y)p(Y)\n",
    "- p(X) = $\\sum_y{p(X,Y)}$\n",
    "- p(X) = $\\sum_y p(X|Y)p(Y)$"
   ]
  },
  {
   "cell_type": "markdown",
   "id": "short-donna",
   "metadata": {},
   "source": [
    "### Boxes of fruits example\n",
    "- box choice \n",
    "- p(B = r) = 4/10 : red box probability\n",
    "- p(B = b) = 6/10 : blue box probability \n",
    "\n",
    "---\n",
    "- selection fruits\n",
    "- p(F = a|B = r) = 1/4 - box red, fruit apple\n",
    "- p(F = o|B = r) = 3/4 - box red, fruit orange\n",
    "- p(F = a|B = b) = 3/4 - box blue, fruit apple\n",
    "- p(F = o|B = b) = 1/4 - box blue, fruit orange"
   ]
  },
  {
   "cell_type": "markdown",
   "id": "japanese-character",
   "metadata": {},
   "source": [
    "- evaluate the overall probability of choosing an apple\n",
    "- p(F = a) = p(F = a|B = r)p(B = r) + p(F = a|B = b)p(B = b)\n",
    "- 1/4 * 4/10 + 3/4 * 6/10 = 11/20 "
   ]
  },
  {
   "cell_type": "markdown",
   "id": "weighted-nancy",
   "metadata": {},
   "source": [
    "- probability of choosing an orange\n",
    "- p(F = o) = 1 - 11/20 = 9/20"
   ]
  },
  {
   "cell_type": "markdown",
   "id": "conscious-royal",
   "metadata": {},
   "source": [
    "- p(B) : prior probability\n",
    "- p(B|F) : which we shall call the posterior probability\n",
    "\n",
    "\n",
    "### Finally \n",
    "- joint distribution of two variables factorizes into theproduct of the marginals, \n",
    "- p(X, Y ) = p(X)p(Y )\n",
    "- X and Y are said to be independent. \n",
    "- From the product rule\n",
    "- product rule : $p(X,Y) = p(Y|X)p(X)$\n",
    "- we see that p(Y |X) = p(Y )\n",
    "- conditional distribution of Y given X is indeed independent of the value of X.\n",
    "\n",
    "---\n",
    "- in our boxes of fruit example, \n",
    "- if each box contained the same fraction of apples and oranges, \n",
    "- then p(F | B) = P (F), an apple is independent of which box is chosen."
   ]
  },
  {
   "cell_type": "markdown",
   "id": "nervous-berlin",
   "metadata": {},
   "source": [
    "# Probability densities"
   ]
  },
  {
   "cell_type": "markdown",
   "id": "falling-blues",
   "metadata": {},
   "source": [
    "- we considering probabilities with respect to continuous variables \n",
    "### $p(x \\in (a,b)) = \\int^{b}_{a} p(x)dx$"
   ]
  },
  {
   "cell_type": "markdown",
   "id": "stainless-truck",
   "metadata": {},
   "source": [
    "- probability are nonnegative, the value of x must lie some real axis \n",
    "- The probability density p(x) must satisfy the two conditions\n",
    "1.  $p(x) \\geq 0$\n",
    "2.  $\\int^\\infty_{-\\infty}p(x)dx = 1$"
   ]
  },
  {
   "cell_type": "markdown",
   "id": "invalid-victory",
   "metadata": {},
   "source": [
    "- cumulative distribution function \n",
    "- P(z) = $\\int^{z}_{-\\infty}p(x)dx$\n",
    "---\n",
    "- probability mass function \n",
    "- When x is discrete variable"
   ]
  },
  {
   "cell_type": "markdown",
   "id": "numeric-virginia",
   "metadata": {},
   "source": [
    "# Expectation and covariances "
   ]
  },
  {
   "cell_type": "markdown",
   "id": "sunrise-maximum",
   "metadata": {},
   "source": [
    "- The average value of some function f(x) under a probability distribution p(x)\n",
    "- called the expectation of f(x) Denoted by E[f]\n",
    "---\n",
    "- For discrete dustribution \n",
    "- E[f] = $\\sum_x{p(x)}{f(x)}$\n",
    "---\n",
    "- For continuous variable \n",
    "- E[f] = $\\int p(x)f(x)dx$"
   ]
  },
  {
   "cell_type": "markdown",
   "id": "alternate-terrorist",
   "metadata": {},
   "source": [
    "- The variance of f(x) is defined by \n",
    "- var[f] = $E[{(f(x) - E[f(x)])}^2]$"
   ]
  },
  {
   "cell_type": "markdown",
   "id": "express-county",
   "metadata": {},
   "source": [
    "- For two random variables x and y the covariance is defined \n",
    "- cov[x, y] = $E_{x, y}[({x - E[x]})({y-E[y]})]$"
   ]
  },
  {
   "cell_type": "markdown",
   "id": "integral-trail",
   "metadata": {},
   "source": [
    "# Bayesian probabilities"
   ]
  },
  {
   "cell_type": "markdown",
   "id": "bound-means",
   "metadata": {},
   "source": [
    "- p(w|D) = $\\frac {p(D|w)p(w)}{p(D)}$\n",
    "- p(D|w) : likelihood function \n",
    "- when w is fixed parameter  p(D|w) : maximum likelihood\n",
    "- In the machine learning \n",
    "- negative log of the likelihood function is called error function "
   ]
  },
  {
   "cell_type": "markdown",
   "id": "competent-romania",
   "metadata": {},
   "source": [
    "# Gaussian Distribution"
   ]
  },
  {
   "cell_type": "markdown",
   "id": "express-farming",
   "metadata": {},
   "source": [
    "- one of the most important probability distribution for continuous variables\n",
    "- Called normal or Gaussian distribution \n",
    "\n",
    "# $N(x|u,\\sigma^2) = \\frac{1}{{(2\\pi\\sigma^2)}^{1/2}}exp(- \\frac{1}{{2\\sigma}^2}(x - \\mu)^2) $"
   ]
  },
  {
   "cell_type": "markdown",
   "id": "waiting-wings",
   "metadata": {},
   "source": [
    "- which governed by two parameters \n",
    "- $\\mu$ called the mean,\n",
    "- $\\sigma^2$ called the variance \n",
    "- $\\sigma$ called the standard variance\n",
    "- $\\beta = 1/\\sigma^2$ is called precision"
   ]
  },
  {
   "cell_type": "code",
   "execution_count": 9,
   "id": "preliminary-shade",
   "metadata": {},
   "outputs": [
    {
     "data": {
      "image/png": "[encoded data removed]",
      "text/plain": [
       "<Figure size 432x288 with 1 Axes>"
      ]
     },
     "metadata": {
      "needs_background": "light"
     },
     "output_type": "display_data"
    }
   ],
   "source": [
    "import scipy.stats as stats\n",
    "import numpy as np\n",
    "import matplotlib.pyplot as plt\n",
    "\n",
    "x = np.linspace(-3, 3, 200)\n",
    "y = stats.norm(0, 1).pdf(x)\n",
    "\n",
    "plt.plot(x, y) \n",
    "plt.xlabel(\"x\") \n",
    "plt.ylabel(\"y\") \n",
    "plt.show()"
   ]
  },
  {
   "cell_type": "markdown",
   "id": "special-technique",
   "metadata": {},
   "source": [
    "### Gaussian distribution \n",
    "- Gaussian distribution satisfies \n",
    "\n",
    "- $N(x|u,\\sigma^2)$ > 0 \n"
   ]
  },
  {
   "cell_type": "code",
   "execution_count": null,
   "id": "isolated-petroleum",
   "metadata": {},
   "outputs": [],
   "source": []
  }
 ],
 "metadata": {
  "kernelspec": {
   "display_name": "Python 3",
   "language": "python",
   "name": "python3"
  },
  "language_info": {
   "codemirror_mode": {
    "name": "ipython",
    "version": 3
   },
   "file_extension": ".py",
   "mimetype": "text/x-python",
   "name": "python",
   "nbconvert_exporter": "python",
   "pygments_lexer": "ipython3",
   "version": "3.7.7"
  }
 },
 "nbformat": 4,
 "nbformat_minor": 5
}
