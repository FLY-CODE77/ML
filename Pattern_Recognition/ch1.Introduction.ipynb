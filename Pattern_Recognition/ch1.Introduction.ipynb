{
 "cells": [
  {
   "cell_type": "markdown",
   "id": "interracial-pointer",
   "metadata": {},
   "source": [
    "# What is machine learning"
   ]
  },
  {
   "cell_type": "markdown",
   "id": "revised-amount",
   "metadata": {},
   "source": [
    "### supervised learning problems. \n",
    "- Applications in which the training data comprises \n",
    "- examples of the input vectors\n",
    "- along with their corresponding target vector\n",
    "\n",
    "---\n",
    "###  classification\n",
    "\n",
    "- Cases such as the digit recognition example, \n",
    "- in which the aim is to assign each input vector to \n",
    "- one of a finite number of discrete categories\n",
    "\n",
    "--- \n",
    "### regresion\n",
    "- If the desired output consists of one or more continuous variables, \n",
    "- then the task is called regression\n",
    "\n",
    "---\n",
    "### unsupervised learning problem\n",
    "- discover groups of similar examples within the data(clustering)\n",
    "- determine the distribution of data witin the input spcae(density estimation)\n",
    "- project the data from a high-dimensional space down to two or three dimensions for purpose of visualization\n",
    "---\n",
    "### reinforcement learning\n",
    "- concerned with the problem of finding suitable actions to take in \n",
    "- a given situation in order to maximize a reward\n"
   ]
  },
  {
   "cell_type": "markdown",
   "id": "essential-secretariat",
   "metadata": {},
   "source": [
    "# Probability Theory"
   ]
  },
  {
   "cell_type": "markdown",
   "id": "contained-copper",
   "metadata": {},
   "source": [
    "### Key concept in the field of pattern recognition is that of uncertainty\n",
    "- Arise through noise on measurements \n",
    "- Arise through finite size of data sets "
   ]
  },
  {
   "cell_type": "markdown",
   "id": "dying-draft",
   "metadata": {},
   "source": [
    "### ThE Rules of Probability\n",
    "- sum rule : $p(X) = \\sum_y {p(X,Y)}$\n",
    "- prodict rule : $p(X,Y) = p(Y|X)p(X)$"
   ]
  },
  {
   "cell_type": "markdown",
   "id": "remarkable-disclaimer",
   "metadata": {},
   "source": [
    "- symmetry property \n",
    "- p(X,Y) = p(Y,X)\n",
    "---\n",
    "### Bayes's theorem\n",
    "- which central role in pattern recognition and machine learning \n",
    "- p(X,Y) = p(Y|X)p(X) = p(Y,X) = p(X|Y)p(Y)\n",
    "- p(Y|X) = $\\frac {p(X|Y)p(Y)}{p(X)}$\n"
   ]
  },
  {
   "cell_type": "markdown",
   "id": "moral-particle",
   "metadata": {},
   "source": [
    "- p(Y|X)p(X) = p(X|Y)p(Y)\n",
    "- p(X,Y) = p(X|Y)p(Y)\n",
    "- p(X) = $\\sum_y{p(X,Y)}$\n",
    "- p(X) = $\\sum_y p(X|Y)p(Y)$"
   ]
  },
  {
   "cell_type": "markdown",
   "id": "spatial-bunny",
   "metadata": {},
   "source": [
    "### Boxes of fruits example\n",
    "- box choice \n",
    "- p(B = r) = 4/10 : red box probability\n",
    "- p(B = b) = 6/10 : blue box probability \n",
    "\n",
    "---\n",
    "- selection fruits\n",
    "- p(F = a|B = r) = 1/4 - box red, fruit apple\n",
    "- p(F = o|B = r) = 3/4 - box red, fruit orange\n",
    "- p(F = a|B = b) = 3/4 - box blue, fruit apple\n",
    "- p(F = o|B = b) = 1/4 - box blue, fruit orange"
   ]
  },
  {
   "cell_type": "markdown",
   "id": "decreased-peeing",
   "metadata": {},
   "source": [
    "- evaluate the overall probability of choosing an apple\n",
    "- p(F = a) = p(F = a|B = r)p(B = r) + p(F = a|B = b)p(B = b)\n",
    "- 1/4 * 4/10 + 3/4 * 6/10 = 11/20 "
   ]
  },
  {
   "cell_type": "markdown",
   "id": "missing-active",
   "metadata": {},
   "source": [
    "- probability of choosing an orange\n",
    "- p(F = o) = 1 - 11/20 = 9/20"
   ]
  },
  {
   "cell_type": "markdown",
   "id": "uniform-southwest",
   "metadata": {},
   "source": [
    "- p(B) : prior probability\n",
    "- p(B|F) : which we shall call the posterior probability\n",
    "\n",
    "\n",
    "### Finally \n",
    "- joint distribution of two variables factorizes into theproduct of the marginals, \n",
    "- p(X, Y ) = p(X)p(Y )\n",
    "- X and Y are said to be independent. \n",
    "- From the product rule\n",
    "- prodict rule : $p(X,Y) = p(Y|X)p(X)$\n",
    "- we see that p(Y |X) = p(Y )\n",
    "- conditional distribution of Y given X is indeed independent of the value of X.\n",
    "\n",
    "---\n",
    "- in our boxes of fruit example, \n",
    "- if each box contained the same fraction of apples and oranges, \n",
    "- then p(F | B) = P (F), an apple is independent of which box is chosen."
   ]
  },
  {
   "cell_type": "markdown",
   "id": "novel-landscape",
   "metadata": {},
   "source": [
    "# Probability densities"
   ]
  },
  {
   "cell_type": "code",
   "execution_count": null,
   "id": "german-theorem",
   "metadata": {},
   "outputs": [],
   "source": []
  }
 ],
 "metadata": {
  "kernelspec": {
   "display_name": "Python 3",
   "language": "python",
   "name": "python3"
  },
  "language_info": {
   "codemirror_mode": {
    "name": "ipython",
    "version": 3
   },
   "file_extension": ".py",
   "mimetype": "text/x-python",
   "name": "python",
   "nbconvert_exporter": "python",
   "pygments_lexer": "ipython3",
   "version": "3.7.7"
  }
 },
 "nbformat": 4,
 "nbformat_minor": 5
}
