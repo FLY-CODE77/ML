{
 "cells": [
  {
   "cell_type": "markdown",
   "metadata": {},
   "source": [
    "# 선형대수와 해석기하의 기초 "
   ]
  },
  {
   "cell_type": "code",
   "execution_count": 87,
   "metadata": {},
   "outputs": [],
   "source": [
    "import numpy as np\n",
    "import matplotlib,pylab as plt\n",
    "\n",
    "plt.rc(\"font\", size =18) # font 18 고정\n",
    "gray = {\"facecolor\": \"gray\"}\n",
    "black = {\"facecolor\": \"black\"}\n",
    "red = {\"facecolor\": \"red\"}\n",
    "green = {\"facecolor\": \"green\"}\n",
    "blue = {\"facecolor\": \"blue\"}"
   ]
  },
  {
   "cell_type": "code",
   "execution_count": 88,
   "metadata": {},
   "outputs": [
    {
     "data": {
      "image/png": "[encoded data removed]",
      "text/plain": [
       "<Figure size 432x288 with 1 Axes>"
      ]
     },
     "metadata": {
      "needs_background": "light"
     },
     "output_type": "display_data"
    }
   ],
   "source": [
    "a = np.array([1, 2])\n",
    "plt.plot(0,0, \"kP\", ms=10)\n",
    "\n",
    "plt.plot(a[0], a[1], \"ro\", ms=20)\n",
    "plt.annotate('', xy=a, xytext=(0, 0), arrowprops=black)\n",
    "plt.annotate('', xy=[-0.6, 1.6], xytext=(0.2, 0.7), arrowprops=gray)\n",
    "plt.annotate('', xy=a + [-1, 1], xytext=(-1, 1), arrowprops=red)\n",
    "\n",
    "plt.xticks(np.arange(-2, 4))\n",
    "plt.yticks(np.arange(-1, 4))\n",
    "plt.xlim(-2.4, 3.4)\n",
    "plt.ylim(-0.8, 3.4)\n",
    "plt.show()"
   ]
  },
  {
   "cell_type": "markdown",
   "metadata": {},
   "source": [
    "### 벡터의 길이 "
   ]
  },
  {
   "cell_type": "markdown",
   "metadata": {},
   "source": [
    "- norm : ||a||\n",
    "- $\\sqrt{a^T}{a}$"
   ]
  },
  {
   "cell_type": "code",
   "execution_count": 89,
   "metadata": {},
   "outputs": [
    {
     "data": {
      "text/plain": [
       "2.23606797749979"
      ]
     },
     "execution_count": 89,
     "metadata": {},
     "output_type": "execute_result"
    }
   ],
   "source": [
    "# code np.linalg.norm(a)로 세상에 너무 쉽게 구해진다..\n",
    "\n",
    "a = np.array([1, 2])\n",
    "np.linalg.norm(a)"
   ]
  },
  {
   "cell_type": "markdown",
   "metadata": {},
   "source": [
    "## 단위 벡터 \n",
    "- 길이가 1인 벡터를 unit vector 라고 한다\n",
    "- $$\\frac{x}{||x||}$$"
   ]
  },
  {
   "cell_type": "markdown",
   "metadata": {},
   "source": [
    "# 벡터의 차"
   ]
  },
  {
   "cell_type": "markdown",
   "metadata": {},
   "source": [
    "- a -b = c \n",
    "- 벡터 b가 가리키는 점으로 부터 벡터 a가 가리키는 점을 연결하는 벡터"
   ]
  },
  {
   "cell_type": "markdown",
   "metadata": {},
   "source": [
    "## 유클리드 거리 "
   ]
  },
  {
   "cell_type": "markdown",
   "metadata": {},
   "source": [
    "- Euclidean distance \n",
    "- 두 벡터의 유클리드 거리는 벡터의 차의 길이\n",
    "---\n",
    "|a - b| = $\\sqrt{\\sum_{1}(a_i - b_i)^2}$"
   ]
  },
  {
   "cell_type": "markdown",
   "metadata": {},
   "source": [
    "# 벡터의 내적과 삼각함수"
   ]
  },
  {
   "cell_type": "markdown",
   "metadata": {},
   "source": [
    "- 두 벡터의 내적\n",
    "- 두 벡터 사이의 각도 $\\theta$의 코사인 함수값으로 계산할수 있다.\n",
    "- $a^Tb = ||a||||b||cos{\\theta}$"
   ]
  },
  {
   "cell_type": "markdown",
   "metadata": {},
   "source": [
    "## 직교"
   ]
  },
  {
   "cell_type": "markdown",
   "metadata": {},
   "source": [
    "- 직교(orthogonal)\n",
    "- 직교하면 cos90 --> 0임으로\n",
    "- $a^Tb =b^Ta$ = 0 "
   ]
  },
  {
   "cell_type": "markdown",
   "metadata": {},
   "source": [
    "## 정규 직교 \n",
    "- orthonormal\n",
    "- 단위벡터 n개의 서로 직교 하면 정규직교 orthonormal "
   ]
  },
  {
   "cell_type": "markdown",
   "metadata": {},
   "source": [
    "### 코사인 유사도 "
   ]
  },
  {
   "cell_type": "markdown",
   "metadata": {},
   "source": [
    "- cosine similarity = cos($\\theta$) = $\\frac{X^Ty}{||x||||y||}$"
   ]
  },
  {
   "cell_type": "markdown",
   "metadata": {},
   "source": [
    "- 코사인 유사도 사용자의 취향이 얼마나 비슷한지를 계산할때 사용\n",
    "- cosine distance = 1 - consine similarity"
   ]
  },
  {
   "cell_type": "markdown",
   "metadata": {},
   "source": [
    "# 벡터의 분해와 성분"
   ]
  },
  {
   "cell_type": "markdown",
   "metadata": {},
   "source": [
    "- 두 벡터 a,b의 합이 다른 벡터 c가 될때 \n",
    "- c가 두 성분(component) --> decomposition 분해 된다고 말 할수 있다"
   ]
  },
  {
   "cell_type": "markdown",
   "metadata": {},
   "source": [
    "## 투영 선분과 직교 성분"
   ]
  },
  {
   "cell_type": "markdown",
   "metadata": {},
   "source": [
    "- 벡터 a를 다른 벡터 b에 직교하는 성분과 벡터 b에 평행한 성분으로 분해 할 수 있다.\n",
    "- 평행한 성분을 벡터 b에 대한 투영성분(projection)\n",
    "- 벡터 b에 직교하는 성분(rejection) 이라고 하며 각각 다음과 같이 표기한다."
   ]
  },
  {
   "cell_type": "markdown",
   "metadata": {},
   "source": [
    "- $$a^{||b}$$ : 투영성분 projection\n",
    "- $$a^{ㅗb}$$ : 직교성분 rejection"
   ]
  },
  {
   "cell_type": "markdown",
   "metadata": {},
   "source": [
    "- 투영성분\n",
    "- $$||a^{||b||}$$ \n",
    "- \n",
    "    - (b가 단위 벡터일때"
   ]
  },
  {
   "cell_type": "code",
   "execution_count": 97,
   "metadata": {},
   "outputs": [
    {
     "data": {
      "image/png": "[encoded data removed]",
      "text/plain": [
       "<Figure size 432x288 with 1 Axes>"
      ]
     },
     "metadata": {
      "needs_background": "light"
     },
     "output_type": "display_data"
    }
   ],
   "source": [
    "import numpy as np \n",
    "a = np.array([1, 2])\n",
    "b = np.array([2, 0])\n",
    "\n",
    "a2 = (a @ b) / np.linalg.norm(b) * np.array([1, 0])\n",
    "a1 = a - a2\n",
    "\n",
    "plt.annotate('', xy=b, xytext=(0, 0), arrowprops=green)\n",
    "plt.annotate('', xy=a2, xytext=(0, 0), arrowprops=blue)\n",
    "plt.annotate('', xy=a1, xytext=(0, 0), arrowprops=blue)\n",
    "plt.annotate('', xy=a, xytext=(0, 0), arrowprops=red)\n",
    "plt.plot(0, 0, 'kP', ms=10)\n",
    "plt.plot(a[0], a[1], 'ro', ms=10)\n",
    "plt.plot(b[0], b[1], 'ro', ms=10)\n",
    "plt.text(0.35, 1.15, \"$a$\")\n",
    "plt.text(1.55, 0.15, \"$b$\")\n",
    "plt.text(-0.5, 1.05, \"$a^{\\perp b}$\")\n",
    "plt.text(0.50, 0.15, \"$a^{\\Vert b}$\")\n",
    "plt.xticks(np.arange(-10, 10))\n",
    "plt.yticks(np.arange(-10, 10))\n",
    "plt.xlim(-1.2, 4.1)\n",
    "plt.ylim(-0.5, 3.2)\n",
    "plt.grid(True)\n",
    "plt.show()\n"
   ]
  },
  {
   "cell_type": "markdown",
   "metadata": {},
   "source": [
    "<img src=\"https://cdn.discordapp.com/attachments/787654815470583821/845160101572509726/-52.jpg\">"
   ]
  },
  {
   "cell_type": "markdown",
   "metadata": {},
   "source": [
    "# 좌표와 변환"
   ]
  },
  {
   "cell_type": "markdown",
   "metadata": {},
   "source": [
    "### 선형 종속과 선형 독립 "
   ]
  },
  {
   "cell_type": "markdown",
   "metadata": {},
   "source": [
    "- linear dependent: 선형 종속(linearly dependent)\n",
    "---\n",
    "##### 선형 종속\n",
    "- 벡터의 선형 조합이 0 벡터가 되면서 \n",
    "- $c_1x_1+ c_2x_2 + --- + c_nx_n = 0$\n",
    "- c의 계수가 모두 0이 아닌 경우를 제외하면 이 폼을 선형종속이라고 한다 \n",
    "---\n",
    "##### 선형 독립\n",
    "- 벡터의 선형 조합이 0이 되면서 모두 0이 아닌 계수가 존재하지 않으면 선형 독립이라고 한다"
   ]
  },
  {
   "cell_type": "markdown",
   "metadata": {},
   "source": [
    "### 선형종속\n",
    "- 특징 행렬 x의 열벡터들이 선형 종속이거나, 선형 종속에 가까운 현상을 multicollinearity 라고 한다\n",
    "- 분석 모델의 성능이 매우 급감한다 \n",
    "---\n",
    "- 경우 1 : 벡터의 갯수가 벡터의 차원 보다 크면 선형 종속\n"
   ]
  },
  {
   "cell_type": "markdown",
   "metadata": {},
   "source": [
    "- 경우 2: 값이 같은 벡터가 있으면 반드시 선형 종속입니다 // 실수배로 같은 벡터가 있어도 "
   ]
  },
  {
   "cell_type": "markdown",
   "metadata": {},
   "source": [
    "- 경우3 : 어떤 벡터가 다른 벡터의 선형 조합이면 반드시 선형 종속 이다 \n",
    "    - ex) 국어, 영어 수학 점수를 별도의 데이터로 포함하면서 총점수나 평균을 데이터에 다시 포함하면 선형 종속이 된다"
   ]
  },
  {
   "cell_type": "markdown",
   "metadata": {},
   "source": [
    "## 랭크 "
   ]
  },
  {
   "cell_type": "markdown",
   "metadata": {},
   "source": [
    "- 행렬의 열벡터 중 서로 독립인 열벡터의 최대 개수를 column rank(열 랭크)라고 한다 \n",
    "- 서로 독립인 행 벡터의 최대 개수를 row rank(행 랭크)라고 한다\n",
    "#### 행랭크와 열랭크는 항상 같다\n",
    "- 따라서 행 랭크나 열랭크를 그냥 랭크(rank)라고 하기도 한다.\n",
    "- 기호는 rankA\n",
    "- 행의 갯수가 n이고 열의 갯수가 m인 행렬의 랭크는 행의 갯수 n과 열의 갯수 m 중에 작은 값보다 커질수 없다\n",
    "- rankA <= mins(M,N)"
   ]
  },
  {
   "cell_type": "code",
   "execution_count": 4,
   "metadata": {},
   "outputs": [
    {
     "data": {
      "text/plain": [
       "2"
      ]
     },
     "execution_count": 4,
     "metadata": {},
     "output_type": "execute_result"
    }
   ],
   "source": [
    "#### code\n",
    "import numpy as np\n",
    "x1 = np.array([[1,3], [2, 4]])\n",
    "np.linalg.matrix_rank(x1)"
   ]
  },
  {
   "cell_type": "markdown",
   "metadata": {},
   "source": [
    "# 풀랭크 \n",
    "- 행의 개수와 열의 갯수 중 작은값과 같으면 full rank(풀랭크) 라고 한다\n",
    "- rankA = min(m,n)\n",
    "- 선형 독립인 벡터들의 행 또는 열로 가지는 행렬을 만들면 항상 풀랭크이다"
   ]
  },
  {
   "cell_type": "code",
   "execution_count": 7,
   "metadata": {},
   "outputs": [
    {
     "data": {
      "text/plain": [
       "3"
      ]
     },
     "execution_count": 7,
     "metadata": {},
     "output_type": "execute_result"
    }
   ],
   "source": [
    "x1 = np.array([[1,5,6], [2,6,8],[3,11,14], [1,4,8]])\n",
    "np.linalg.matrix_rank(x1)"
   ]
  },
  {
   "cell_type": "markdown",
   "metadata": {},
   "source": [
    "# 로우 랭크 행렬 "
   ]
  },
  {
   "cell_type": "markdown",
   "metadata": {},
   "source": [
    "- n 차원 벡터 x 하나를 이용하여 만들어지는 행렬을 랭크-1(rank-1 matrix)라고 한다 \n",
    "- 랭크-1 행렬의 랭크는 1이다"
   ]
  },
  {
   "cell_type": "markdown",
   "metadata": {},
   "source": [
    "- 선형 독립인 두개의 n 차원 벡터 x, x2 를 이용한 행렬은 랭크-2 행렬이라고 한다 ..\n",
    "- m개의 n 차원 벡터를 이용하면 랭크-m 행렬\n",
    "- 위에 것들이 로우 랭크 행렬 인데 \n",
    "- 나중에 singular value decompostion, pca 에 사용된다"
   ]
  },
  {
   "cell_type": "markdown",
   "metadata": {},
   "source": [
    "# 벡터 공간과 기저벡터 "
   ]
  },
  {
   "cell_type": "markdown",
   "metadata": {},
   "source": [
    "- 여러 벡터를 선형 조합 하면 다른 벡터를 만들수 있다\n",
    "- 벡터 n개가 선형이라면, 이벡터들을 선형 조합하여 만들어지는 모든 벡터들의 집합을 vector space(V)라고 하고 \n",
    "- 벡터 공간의 차원을 n 이라고 한다 \n",
    "- 그리고 벡터공간의 벡터들을 basis vector 라고 한다 "
   ]
  },
  {
   "cell_type": "markdown",
   "metadata": {},
   "source": [
    "# 랭크와 역행렬"
   ]
  },
  {
   "cell_type": "markdown",
   "metadata": {},
   "source": [
    "- 정방행렬이 풀랭크 이면 역행렬이 존재한다 \n",
    "- 정방행렬의 역행렬이 존재하면 플렝크이다"
   ]
  }
 ],
 "metadata": {
  "kernelspec": {
   "display_name": "Python 3",
   "language": "python",
   "name": "python3"
  },
  "language_info": {
   "codemirror_mode": {
    "name": "ipython",
    "version": 3
   },
   "file_extension": ".py",
   "mimetype": "text/x-python",
   "name": "python",
   "nbconvert_exporter": "python",
   "pygments_lexer": "ipython3",
   "version": "3.8.5"
  }
 },
 "nbformat": 4,
 "nbformat_minor": 4
}
