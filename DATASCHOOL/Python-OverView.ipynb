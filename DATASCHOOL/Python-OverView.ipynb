{
 "cells": [
  {
   "cell_type": "markdown",
   "id": "sitting-transmission",
   "metadata": {},
   "source": [
    "# enumerate"
   ]
  },
  {
   "cell_type": "code",
   "execution_count": 1,
   "id": "confused-medicine",
   "metadata": {},
   "outputs": [
    {
     "name": "stdout",
     "output_type": "stream",
     "text": [
      "i = 0, e = a\n",
      "i = 1, e = b\n",
      "i = 2, e = c\n"
     ]
    }
   ],
   "source": [
    "for i, e in enumerate([\"a\", \"b\", \"c\"]):\n",
    "    print(\"i = %d, e = %s\"%(i, e))"
   ]
  },
  {
   "cell_type": "code",
   "execution_count": 2,
   "id": "previous-perth",
   "metadata": {},
   "outputs": [
    {
     "data": {
      "text/plain": [
       "[25, 45, 65, 85, 105]"
      ]
     },
     "execution_count": 2,
     "metadata": {},
     "output_type": "execute_result"
    }
   ],
   "source": [
    "s = [0, 0, 0, 0, 0]\n",
    "a1 = [10, 20, 30, 40, 50]\n",
    "b1 = [15, 25, 35, 45, 55]\n",
    "\n",
    "for i, (s1, s2) in enumerate(zip(a1, b1)):\n",
    "    s[i] = s1 + s2\n",
    "s"
   ]
  },
  {
   "cell_type": "markdown",
   "id": "fluid-titanium",
   "metadata": {},
   "source": [
    "# list의 list"
   ]
  },
  {
   "cell_type": "code",
   "execution_count": 3,
   "id": "rubber-flash",
   "metadata": {},
   "outputs": [],
   "source": [
    "X = [[85,  90,  20,  50,  60,  25,  30,  75,  40,  55],\n",
    "     [70, 100,  70,  70,  55,  75,  55,  60,  40,  45],\n",
    "     [25,  65,  15,  25,  20,   5,  60,  70,  35,  10],\n",
    "     [80,  45,  80,  40,  75,  35,  80,  55,  70,  90],\n",
    "     [35,  50,  75,  25,  35,  70,  65,  50,  70,  10]]"
   ]
  },
  {
   "cell_type": "code",
   "execution_count": 4,
   "id": "negative-shark",
   "metadata": {},
   "outputs": [
    {
     "data": {
      "text/plain": [
       "52.7"
      ]
     },
     "execution_count": 4,
     "metadata": {},
     "output_type": "execute_result"
    }
   ],
   "source": [
    "score_sum = 0\n",
    "people_num = 0\n",
    "for i in range(len(X)):\n",
    "    for j in range(len(X[i])):\n",
    "        people_num = people_num + 1\n",
    "        score_sum = score_sum + X[i][j]\n",
    "score_sum/people_num"
   ]
  },
  {
   "cell_type": "markdown",
   "id": "nonprofit-overview",
   "metadata": {},
   "source": [
    "# 연습문제 "
   ]
  },
  {
   "cell_type": "code",
   "execution_count": 5,
   "id": "constant-rings",
   "metadata": {},
   "outputs": [
    {
     "data": {
      "text/plain": [
       "3.3636363636363638"
      ]
     },
     "execution_count": 5,
     "metadata": {},
     "output_type": "execute_result"
    }
   ],
   "source": [
    "# 연습문제 2.10.1\n",
    "import numpy as np\n",
    "\n",
    "X = np.array([4,3,2,3,4])\n",
    "W = np.array([3,3,1,2,2])\n",
    "\n",
    "# 가중 평균\n",
    "if len(X) == len(W):\n",
    "    result = (X* W).sum()/ W.sum()\n",
    "\n",
    "result"
   ]
  },
  {
   "cell_type": "code",
   "execution_count": 6,
   "id": "difficult-revision",
   "metadata": {
    "scrolled": true
   },
   "outputs": [
    {
     "data": {
      "text/plain": [
       "1.6666666666666667"
      ]
     },
     "execution_count": 6,
     "metadata": {},
     "output_type": "execute_result"
    }
   ],
   "source": [
    "# 연습문제 2.10.2\n",
    "import numpy as np\n",
    "\n",
    "X = np.array([6, 5, 4, 7, 3, 5])\n",
    "mean = X.sum()/len(X)\n",
    "var = np.square(X - mean).sum()/ len(X)\n",
    "\n",
    "var"
   ]
  },
  {
   "cell_type": "markdown",
   "id": "offshore-cleveland",
   "metadata": {},
   "source": [
    "# Zip"
   ]
  },
  {
   "cell_type": "code",
   "execution_count": 7,
   "id": "figured-concord",
   "metadata": {},
   "outputs": [],
   "source": [
    "# zip 함수는 두개의 리스트를 합쳐서 각 리스트 원소를 쌍으로 가지는 하나의 리스트를 만든다 "
   ]
  },
  {
   "cell_type": "code",
   "execution_count": 8,
   "id": "525fc311",
   "metadata": {},
   "outputs": [
    {
     "data": {
      "text/plain": [
       "[(10, 15), (20, 25), (30, 35), (40, 45), (50, 55)]"
      ]
     },
     "execution_count": 8,
     "metadata": {},
     "output_type": "execute_result"
    }
   ],
   "source": [
    "c1 = list(zip(a1, b1))\n",
    "c1"
   ]
  },
  {
   "cell_type": "code",
   "execution_count": 9,
   "id": "2148d199",
   "metadata": {},
   "outputs": [
    {
     "data": {
      "text/plain": [
       "[25, 45, 65, 85, 105]"
      ]
     },
     "execution_count": 9,
     "metadata": {},
     "output_type": "execute_result"
    }
   ],
   "source": [
    "# 리스트 두개 합치는걸 zip을 사용해서 써보기 \n",
    "a1 = [10, 20, 30, 40, 50]\n",
    "b1 = [15, 25, 35, 45, 55]\n",
    "\n",
    "score = []\n",
    "for i,j in zip(a1, b1):\n",
    "    score.append(i + j)\n",
    "score"
   ]
  },
  {
   "cell_type": "code",
   "execution_count": 10,
   "id": "8b975056",
   "metadata": {},
   "outputs": [
    {
     "data": {
      "text/plain": [
       "[(10, 20, 30, 40, 50), (15, 25, 35, 45, 55)]"
      ]
     },
     "execution_count": 10,
     "metadata": {},
     "output_type": "execute_result"
    }
   ],
   "source": [
    "# zip 함수를 사용할때!!! \n",
    "# 인수의 앞에 * 기호를 붙이면 리스트 쌍으로 변경된다.\n",
    "\n",
    "list(zip(*c1))"
   ]
  },
  {
   "cell_type": "code",
   "execution_count": 11,
   "id": "c127b7ab",
   "metadata": {},
   "outputs": [],
   "source": [
    "# 연습문제\n",
    "x = [\n",
    "  [\"길동\", 90],\n",
    "  [\"철수\", 80],\n",
    "  [\"영수\", 70],\n",
    "  [\"방자\", 60],\n",
    "]"
   ]
  },
  {
   "cell_type": "code",
   "execution_count": 12,
   "id": "e5090a18",
   "metadata": {
    "scrolled": false
   },
   "outputs": [
    {
     "data": {
      "text/plain": [
       "('길동', '철수', '영수', '방자')"
      ]
     },
     "execution_count": 12,
     "metadata": {},
     "output_type": "execute_result"
    }
   ],
   "source": [
    "a = list(zip(*x))\n",
    "name = a[0]\n",
    "name"
   ]
  },
  {
   "cell_type": "code",
   "execution_count": 13,
   "id": "f7d45cc7",
   "metadata": {},
   "outputs": [
    {
     "data": {
      "text/plain": [
       "['길동', '철수', '영수', '방자']"
      ]
     },
     "execution_count": 13,
     "metadata": {},
     "output_type": "execute_result"
    }
   ],
   "source": [
    "a = list(zip(x))\n",
    "name = []\n",
    "for i in a:\n",
    "    name.append(i[0][0])\n",
    "name"
   ]
  },
  {
   "cell_type": "markdown",
   "id": "f42c6d0f",
   "metadata": {},
   "source": [
    "# 객체지향 프로그램"
   ]
  },
  {
   "cell_type": "code",
   "execution_count": 14,
   "id": "45b78f5e",
   "metadata": {},
   "outputs": [
    {
     "name": "stdout",
     "output_type": "stream",
     "text": [
      "200\n"
     ]
    }
   ],
   "source": [
    "# 사각형 넓이 구하는 간단한 프로그렘 함수 객체지향 사용 안함\n",
    "\n",
    "h = 10\n",
    "v = 20\n",
    "\n",
    "def area(h, v):\n",
    "    return h * v\n",
    "\n",
    "a = area(h, v)\n",
    "print(a)"
   ]
  },
  {
   "cell_type": "code",
   "execution_count": 15,
   "id": "731ae1fe",
   "metadata": {},
   "outputs": [],
   "source": [
    "# 사각형 넓이 구하는 프로그렘 객체지향 사용\n",
    "\n",
    "class Rectangle:\n",
    "    \n",
    "    def __init__(self, h, v):\n",
    "        self.h = h\n",
    "        self.v = v\n",
    "    \n",
    "    def area(self):\n",
    "        return self.h * self.v"
   ]
  },
  {
   "cell_type": "code",
   "execution_count": 16,
   "id": "f15d71be",
   "metadata": {},
   "outputs": [
    {
     "data": {
      "text/plain": [
       "200"
      ]
     },
     "execution_count": 16,
     "metadata": {},
     "output_type": "execute_result"
    }
   ],
   "source": [
    "# r이 객체 \n",
    "r = Rectangle(10, 20)\n",
    "a = r.area()\n",
    "a"
   ]
  },
  {
   "cell_type": "markdown",
   "id": "c816fc90",
   "metadata": {},
   "source": [
    "# 클라스 상속"
   ]
  },
  {
   "cell_type": "code",
   "execution_count": 17,
   "id": "4b341c04",
   "metadata": {},
   "outputs": [],
   "source": [
    "class Character(object):\n",
    "\n",
    "    def __init__(self):\n",
    "        self.life = 1000\n",
    "\n",
    "    def attacked(self):\n",
    "        self.life -= 10\n",
    "        print(\"공격받음! 생명력 =\", self.life)"
   ]
  },
  {
   "cell_type": "code",
   "execution_count": 18,
   "id": "72e7f781",
   "metadata": {},
   "outputs": [],
   "source": [
    "class Warrior(Character):\n",
    "\n",
    "    def __init__(self):\n",
    "        super(Warrior, self).__init__()\n",
    "        self.strength = 15\n",
    "        self.intelligence = 5\n"
   ]
  },
  {
   "cell_type": "code",
   "execution_count": 19,
   "id": "f1bc838e",
   "metadata": {},
   "outputs": [],
   "source": [
    "class Wizard(Character):\n",
    "\n",
    "    def __init__(self):\n",
    "        super(Wizard, self).__init__()\n",
    "        self.strength = 5\n",
    "        self.intelligence = 15"
   ]
  },
  {
   "cell_type": "markdown",
   "id": "0e1ee3c5",
   "metadata": {},
   "source": [
    "- super(자식클래스이름, self).__init()__ 부분은 \n",
    "- 부모 클래스의 초기화 생성자를 호출하는 부분이다. "
   ]
  },
  {
   "cell_type": "code",
   "execution_count": 20,
   "id": "e183c30d",
   "metadata": {},
   "outputs": [
    {
     "name": "stdout",
     "output_type": "stream",
     "text": [
      "공격받음! 생명력 = 990\n"
     ]
    }
   ],
   "source": [
    "b = Wizard()\n",
    "b.life\n",
    "b.attacked()"
   ]
  },
  {
   "cell_type": "code",
   "execution_count": 21,
   "id": "000270c0",
   "metadata": {},
   "outputs": [
    {
     "data": {
      "text/plain": [
       "1000"
      ]
     },
     "execution_count": 21,
     "metadata": {},
     "output_type": "execute_result"
    }
   ],
   "source": [
    "a = Warrior()\n",
    "a.life"
   ]
  },
  {
   "cell_type": "markdown",
   "id": "6e0b9551",
   "metadata": {},
   "source": [
    "# 매서드 오버라이딩"
   ]
  },
  {
   "cell_type": "markdown",
   "id": "3a0c3103",
   "metadata": {},
   "source": [
    "- 매서드 오버라이딩\n",
    "- 여러 클래스에 걸쳐 같은 이름의 매서드 만드는거 "
   ]
  },
  {
   "cell_type": "markdown",
   "id": "b2f9523e",
   "metadata": {},
   "source": [
    "- super(Warrior, self).__init__()\n",
    "- 초기화 하는거 부모 클래스의 초기화 생성자를 호출하는 부분"
   ]
  },
  {
   "cell_type": "code",
   "execution_count": 22,
   "id": "d11931da",
   "metadata": {},
   "outputs": [],
   "source": [
    "class Character(object):\n",
    "    \n",
    "    def __init__(self):\n",
    "        self.life = 1000\n",
    "        self.strength = 10\n",
    "        self.intelligence = 10\n",
    "        \n",
    "    def attacked(self):\n",
    "        self.life -= 10\n",
    "        print(\"공격 받았어요! 남은 생명력\", self.life)\n",
    "        \n",
    "    def attack(self):\n",
    "        print(\"공격!\")"
   ]
  },
  {
   "cell_type": "code",
   "execution_count": 23,
   "id": "cdb3d018",
   "metadata": {},
   "outputs": [],
   "source": [
    "class Warrior(Character):\n",
    "    \n",
    "    def __init__(self):\n",
    "        super(Warrior, self).__init__()\n",
    "        self.strength = 15\n",
    "        self.intelligence = 5\n",
    "        \n",
    "    def attack(self):\n",
    "        print(\"육탄공격\")"
   ]
  },
  {
   "cell_type": "code",
   "execution_count": 24,
   "id": "379f182c",
   "metadata": {},
   "outputs": [],
   "source": [
    "class Wizard(Character):\n",
    "    \n",
    "    def __init__(self):\n",
    "        super(Wizard, self).__init__()\n",
    "        self.strength = 5\n",
    "        self.intelligence = 15\n",
    "        \n",
    "    def attack(self):\n",
    "        print(\"마법공격\")"
   ]
  },
  {
   "cell_type": "code",
   "execution_count": 25,
   "id": "d6399ce4",
   "metadata": {},
   "outputs": [],
   "source": [
    "a = Character()\n",
    "b = Warrior()\n",
    "c = Wizard()"
   ]
  },
  {
   "cell_type": "code",
   "execution_count": 26,
   "id": "d8086a0b",
   "metadata": {},
   "outputs": [
    {
     "name": "stdout",
     "output_type": "stream",
     "text": [
      "공격!\n"
     ]
    }
   ],
   "source": [
    "a.attack()"
   ]
  },
  {
   "cell_type": "code",
   "execution_count": 27,
   "id": "3512da38",
   "metadata": {},
   "outputs": [
    {
     "name": "stdout",
     "output_type": "stream",
     "text": [
      "육탄공격\n"
     ]
    }
   ],
   "source": [
    "b.attack()"
   ]
  },
  {
   "cell_type": "code",
   "execution_count": 28,
   "id": "6a17f939",
   "metadata": {},
   "outputs": [
    {
     "name": "stdout",
     "output_type": "stream",
     "text": [
      "마법공격\n"
     ]
    }
   ],
   "source": [
    "c.attack()"
   ]
  },
  {
   "cell_type": "code",
   "execution_count": 29,
   "id": "5d2b6712",
   "metadata": {},
   "outputs": [
    {
     "name": "stdout",
     "output_type": "stream",
     "text": [
      "공격 받았어요! 남은 생명력 990\n"
     ]
    }
   ],
   "source": [
    "a.attacked()"
   ]
  },
  {
   "cell_type": "markdown",
   "id": "41dbae2f",
   "metadata": {},
   "source": [
    "# OverLoading : 참조 "
   ]
  },
  {
   "cell_type": "markdown",
   "id": "73e40fcc",
   "metadata": {},
   "source": [
    "- 오버라이딩과 전혀 다른 개념 \n",
    "- 오버로딩은 같은 메서드가 인수의 자료형이나 개수를 다르게 받을수 있는것"
   ]
  },
  {
   "cell_type": "markdown",
   "id": "58a3e9b6",
   "metadata": {},
   "source": [
    "- __repr__ L표현\n",
    "- __str__ : str(c2) 하면 문자열로\n",
    "- __getitem__ : c3[1] 처럼 인덱싱 가능"
   ]
  },
  {
   "cell_type": "markdown",
   "id": "9afec603",
   "metadata": {},
   "source": [
    "## 특수 메서드"
   ]
  },
  {
   "cell_type": "code",
   "execution_count": 30,
   "id": "36f50bfc",
   "metadata": {},
   "outputs": [],
   "source": [
    "class Complex(object):\n",
    "\n",
    "    def __init__(self, realpart, imagpart):\n",
    "        self.r = realpart\n",
    "        self.i = imagpart"
   ]
  },
  {
   "cell_type": "code",
   "execution_count": 31,
   "id": "d987c829",
   "metadata": {},
   "outputs": [],
   "source": [
    "class Complex2(Complex):\n",
    "    \n",
    "    def __repr__(self):\n",
    "        return \"Complex : real =%f image =%f\"%(self.r, self.i)\n",
    "    \n",
    "    def __str__(self):\n",
    "        return \"[for str]\" + self.__repr__()"
   ]
  },
  {
   "cell_type": "code",
   "execution_count": 32,
   "id": "32afba8b",
   "metadata": {},
   "outputs": [
    {
     "data": {
      "text/plain": [
       "Complex : real =1.000000 image =1.000000"
      ]
     },
     "execution_count": 32,
     "metadata": {},
     "output_type": "execute_result"
    }
   ],
   "source": [
    "c2 = Complex2(1,1)\n",
    "c2"
   ]
  },
  {
   "cell_type": "code",
   "execution_count": 33,
   "id": "a633b848",
   "metadata": {},
   "outputs": [
    {
     "data": {
      "text/plain": [
       "'[for str]Complex : real =1.000000 image =1.000000'"
      ]
     },
     "execution_count": 33,
     "metadata": {},
     "output_type": "execute_result"
    }
   ],
   "source": [
    "str(c2)"
   ]
  },
  {
   "cell_type": "code",
   "execution_count": 34,
   "id": "bc1b1517",
   "metadata": {},
   "outputs": [],
   "source": [
    "class Complex3(Complex2):\n",
    "    \n",
    "    def __getitem__(self, key):\n",
    "        if key ==\"r\":\n",
    "            return self.r\n",
    "        if key == \"i\":\n",
    "            return self.i"
   ]
  },
  {
   "cell_type": "code",
   "execution_count": 35,
   "id": "4a7d90bc",
   "metadata": {},
   "outputs": [],
   "source": [
    "c3 = Complex3(1,2)"
   ]
  },
  {
   "cell_type": "code",
   "execution_count": 36,
   "id": "f3ad9545",
   "metadata": {},
   "outputs": [
    {
     "data": {
      "text/plain": [
       "2"
      ]
     },
     "execution_count": 36,
     "metadata": {},
     "output_type": "execute_result"
    }
   ],
   "source": [
    "c3['i']"
   ]
  },
  {
   "cell_type": "markdown",
   "id": "1487d47b",
   "metadata": {},
   "source": [
    "# 날짜와 시간 다루기"
   ]
  },
  {
   "cell_type": "code",
   "execution_count": 37,
   "id": "9cbd0f20",
   "metadata": {},
   "outputs": [],
   "source": [
    "import datetime as dt"
   ]
  },
  {
   "cell_type": "code",
   "execution_count": 38,
   "id": "959d1d3b",
   "metadata": {},
   "outputs": [
    {
     "data": {
      "text/plain": [
       "datetime.datetime(2021, 4, 23, 14, 21, 23, 640840)"
      ]
     },
     "execution_count": 38,
     "metadata": {},
     "output_type": "execute_result"
    }
   ],
   "source": [
    "x = dt.datetime.now()\n",
    "x"
   ]
  },
  {
   "cell_type": "code",
   "execution_count": 39,
   "id": "99271287",
   "metadata": {},
   "outputs": [
    {
     "data": {
      "text/plain": [
       "4"
      ]
     },
     "execution_count": 39,
     "metadata": {},
     "output_type": "execute_result"
    }
   ],
   "source": [
    "x.weekday()"
   ]
  },
  {
   "cell_type": "markdown",
   "id": "52b33750",
   "metadata": {},
   "source": [
    "### 날짜와 시간 정보를 문자열로 바꿔주는 strftime 매서드 "
   ]
  },
  {
   "cell_type": "code",
   "execution_count": 40,
   "id": "ac11b67e",
   "metadata": {},
   "outputs": [
    {
     "data": {
      "text/plain": [
       "'Friday 23. April 2021'"
      ]
     },
     "execution_count": 40,
     "metadata": {},
     "output_type": "execute_result"
    }
   ],
   "source": [
    "x.strftime(\"%A %d. %B %Y\")"
   ]
  },
  {
   "cell_type": "code",
   "execution_count": 41,
   "id": "84386809",
   "metadata": {},
   "outputs": [
    {
     "data": {
      "text/plain": [
       "datetime.datetime(2017, 1, 2, 14, 44)"
      ]
     },
     "execution_count": 41,
     "metadata": {},
     "output_type": "execute_result"
    }
   ],
   "source": [
    "dt.datetime.strptime(\"2017-01-02 14:44\", \"%Y-%m-%d %H:%M\")"
   ]
  },
  {
   "cell_type": "markdown",
   "id": "04573e70",
   "metadata": {},
   "source": [
    "## dateutil\n",
    "- parse 함수를 쓰면 자동으로 형식 문자열을 찾아 datatime 클래스 객체 만들어준다 "
   ]
  },
  {
   "cell_type": "code",
   "execution_count": 45,
   "id": "e28b4415",
   "metadata": {
    "scrolled": true
   },
   "outputs": [],
   "source": [
    "from dateutil.parser import parse"
   ]
  },
  {
   "cell_type": "code",
   "execution_count": 46,
   "id": "f91608c5",
   "metadata": {},
   "outputs": [
    {
     "data": {
      "text/plain": [
       "datetime.datetime(2015, 4, 16, 0, 0)"
      ]
     },
     "execution_count": 46,
     "metadata": {},
     "output_type": "execute_result"
    }
   ],
   "source": [
    "parse(\"2015-04-16\")"
   ]
  },
  {
   "cell_type": "markdown",
   "id": "70c5d719",
   "metadata": {},
   "source": [
    "# 날짜/ 시간 연산"
   ]
  },
  {
   "cell_type": "code",
   "execution_count": 48,
   "id": "c819f7dd",
   "metadata": {},
   "outputs": [],
   "source": [
    "import datetime"
   ]
  },
  {
   "cell_type": "code",
   "execution_count": 49,
   "id": "8f65fc94",
   "metadata": {
    "scrolled": true
   },
   "outputs": [
    {
     "data": {
      "text/plain": [
       "datetime.timedelta(days=48, seconds=3600)"
      ]
     },
     "execution_count": 49,
     "metadata": {},
     "output_type": "execute_result"
    }
   ],
   "source": [
    "dt1 = datetime.datetime(2016, 2, 19, 14)\n",
    "dt2 = datetime.datetime(2016, 1, 2, 13)\n",
    "td = dt1 - dt2\n",
    "td"
   ]
  },
  {
   "cell_type": "code",
   "execution_count": 50,
   "id": "20fada4d",
   "metadata": {},
   "outputs": [
    {
     "data": {
      "text/plain": [
       "48"
      ]
     },
     "execution_count": 50,
     "metadata": {},
     "output_type": "execute_result"
    }
   ],
   "source": [
    "td.days"
   ]
  },
  {
   "cell_type": "code",
   "execution_count": 52,
   "id": "4f691d97",
   "metadata": {},
   "outputs": [
    {
     "data": {
      "text/plain": [
       "4150800.0"
      ]
     },
     "execution_count": 52,
     "metadata": {},
     "output_type": "execute_result"
    }
   ],
   "source": [
    "td.total_seconds()"
   ]
  },
  {
   "cell_type": "code",
   "execution_count": 55,
   "id": "d764f4e0",
   "metadata": {},
   "outputs": [],
   "source": [
    "# datetime 클래스 객체에 timedelta 클래스 객체를 더하면 새로운 시간"
   ]
  },
  {
   "cell_type": "code",
   "execution_count": 56,
   "id": "ee9361e1",
   "metadata": {},
   "outputs": [],
   "source": [
    "t0 = datetime.datetime(2018, 9, 1, 13)\n",
    "d = datetime.timedelta(days=90, seconds=3600)"
   ]
  },
  {
   "cell_type": "code",
   "execution_count": 57,
   "id": "2f3c2609",
   "metadata": {},
   "outputs": [
    {
     "data": {
      "text/plain": [
       "datetime.datetime(2018, 11, 30, 14, 0)"
      ]
     },
     "execution_count": 57,
     "metadata": {},
     "output_type": "execute_result"
    }
   ],
   "source": [
    "t0 + d"
   ]
  },
  {
   "cell_type": "code",
   "execution_count": 58,
   "id": "4e2723ac",
   "metadata": {},
   "outputs": [
    {
     "data": {
      "text/plain": [
       "datetime.datetime(2018, 11, 1, 13, 0)"
      ]
     },
     "execution_count": 58,
     "metadata": {},
     "output_type": "execute_result"
    }
   ],
   "source": [
    "# time delta 날짜와 초 단위로만 연산\n",
    "# deteutil 패키지는 월단위 계산 가능\n",
    "from dateutil.relativedelta import relativedelta\n",
    "\n",
    "t0 + relativedelta(months=2)"
   ]
  },
  {
   "cell_type": "code",
   "execution_count": null,
   "id": "c2dad420",
   "metadata": {},
   "outputs": [],
   "source": []
  }
 ],
 "metadata": {
  "kernelspec": {
   "display_name": "Python 3",
   "language": "python",
   "name": "python3"
  },
  "language_info": {
   "codemirror_mode": {
    "name": "ipython",
    "version": 3
   },
   "file_extension": ".py",
   "mimetype": "text/x-python",
   "name": "python",
   "nbconvert_exporter": "python",
   "pygments_lexer": "ipython3",
   "version": "3.7.10"
  }
 },
 "nbformat": 4,
 "nbformat_minor": 5
}
